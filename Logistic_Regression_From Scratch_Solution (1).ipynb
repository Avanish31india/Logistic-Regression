{
 "cells": [
  {
   "cell_type": "markdown",
   "metadata": {
    "id": "YOoMmn6xpOkJ"
   },
   "source": [
    "# Implement Logistic Regression from scratch\n",
    "\n",
    "In this assignment, you will implement Logistic Regression with L1 regularization from scratch and predict the labels of the test data. You will then verify the correctness of the your implementation using multiple \"grader\" functions/cells (provided by us) which will match your implmentation.\n",
    "\n",
    "The grader functions would help you validate the correctness of your code. \n",
    "\n",
    "Please submit the final Colab notebook in the classroom ONLY after you have verified your code using the grader functions/cells.\n",
    "\n",
    "\n",
    "**NOTE: DO NOT change the \"grader\" functions or code snippets written by us.Please add your code in the suggested locations.**\n",
    "\n",
    "Ethics Code:\n",
    "1. You are welcome to read up online resources to implement the code. \n",
    "2. You can also discuss with your classmates on the implmentation over Slack.\n",
    "3. But, the code you write and submit should be yours ONLY. Your code will be compared against other stduents' code and online code snippets to check for plagiarism. If your code is found to be plagiarised, you will be awarded zero-marks for all assignments, which have a 10% weightage in the final marks for this course."
   ]
  },
  {
   "cell_type": "code",
   "execution_count": 30,
   "metadata": {
    "colab": {
     "base_uri": "https://localhost:8080/",
     "height": 419
    },
    "executionInfo": {
     "elapsed": 539,
     "status": "ok",
     "timestamp": 1626855233703,
     "user": {
      "displayName": "Mentors Applied Roots",
      "photoUrl": "",
      "userId": "03189030586612060642"
     },
     "user_tz": -330
    },
    "id": "KMnahnQEpfQb",
    "outputId": "9ee890cd-fdef-4c6e-a19d-1bb8db15a3ac"
   },
   "outputs": [
    {
     "data": {
      "text/html": [
       "<div>\n",
       "<style scoped>\n",
       "    .dataframe tbody tr th:only-of-type {\n",
       "        vertical-align: middle;\n",
       "    }\n",
       "\n",
       "    .dataframe tbody tr th {\n",
       "        vertical-align: top;\n",
       "    }\n",
       "\n",
       "    .dataframe thead th {\n",
       "        text-align: right;\n",
       "    }\n",
       "</style>\n",
       "<table border=\"1\" class=\"dataframe\">\n",
       "  <thead>\n",
       "    <tr style=\"text-align: right;\">\n",
       "      <th></th>\n",
       "      <th>category</th>\n",
       "      <th>text</th>\n",
       "    </tr>\n",
       "  </thead>\n",
       "  <tbody>\n",
       "    <tr>\n",
       "      <th>0</th>\n",
       "      <td>0</td>\n",
       "      <td>worldcom boss  left books alone  former worldc...</td>\n",
       "    </tr>\n",
       "    <tr>\n",
       "      <th>1</th>\n",
       "      <td>1</td>\n",
       "      <td>tigers wary of farrell  gamble  leicester say ...</td>\n",
       "    </tr>\n",
       "    <tr>\n",
       "      <th>2</th>\n",
       "      <td>1</td>\n",
       "      <td>yeading face newcastle in fa cup premiership s...</td>\n",
       "    </tr>\n",
       "    <tr>\n",
       "      <th>3</th>\n",
       "      <td>1</td>\n",
       "      <td>henman hopes ended in dubai third seed tim hen...</td>\n",
       "    </tr>\n",
       "    <tr>\n",
       "      <th>4</th>\n",
       "      <td>1</td>\n",
       "      <td>wilkinson fit to face edinburgh england captai...</td>\n",
       "    </tr>\n",
       "    <tr>\n",
       "      <th>5</th>\n",
       "      <td>0</td>\n",
       "      <td>virgin blue shares plummet 20% shares in austr...</td>\n",
       "    </tr>\n",
       "    <tr>\n",
       "      <th>6</th>\n",
       "      <td>0</td>\n",
       "      <td>crude oil prices back above $50 cold weather a...</td>\n",
       "    </tr>\n",
       "    <tr>\n",
       "      <th>7</th>\n",
       "      <td>1</td>\n",
       "      <td>moya emotional after davis cup win carlos moya...</td>\n",
       "    </tr>\n",
       "    <tr>\n",
       "      <th>8</th>\n",
       "      <td>0</td>\n",
       "      <td>s korean credit card firm rescued south korea ...</td>\n",
       "    </tr>\n",
       "    <tr>\n",
       "      <th>9</th>\n",
       "      <td>1</td>\n",
       "      <td>connors boost for british tennis former world ...</td>\n",
       "    </tr>\n",
       "    <tr>\n",
       "      <th>10</th>\n",
       "      <td>0</td>\n",
       "      <td>japanese banking battle at an end japan s sumi...</td>\n",
       "    </tr>\n",
       "    <tr>\n",
       "      <th>11</th>\n",
       "      <td>1</td>\n",
       "      <td>bates seals takeover ken bates has completed h...</td>\n",
       "    </tr>\n",
       "    <tr>\n",
       "      <th>12</th>\n",
       "      <td>1</td>\n",
       "      <td>cole faces lengthy injury lay-off aston villa ...</td>\n",
       "    </tr>\n",
       "    <tr>\n",
       "      <th>13</th>\n",
       "      <td>1</td>\n",
       "      <td>moya fights back for indian title carlos moya ...</td>\n",
       "    </tr>\n",
       "    <tr>\n",
       "      <th>14</th>\n",
       "      <td>0</td>\n",
       "      <td>insurance bosses plead guilty another three us...</td>\n",
       "    </tr>\n",
       "    <tr>\n",
       "      <th>15</th>\n",
       "      <td>0</td>\n",
       "      <td>german growth goes into reverse germany s econ...</td>\n",
       "    </tr>\n",
       "    <tr>\n",
       "      <th>16</th>\n",
       "      <td>1</td>\n",
       "      <td>federer claims dubai crown world number one ro...</td>\n",
       "    </tr>\n",
       "    <tr>\n",
       "      <th>17</th>\n",
       "      <td>0</td>\n",
       "      <td>house prices show slight increase prices of ho...</td>\n",
       "    </tr>\n",
       "    <tr>\n",
       "      <th>18</th>\n",
       "      <td>1</td>\n",
       "      <td>disappointed scott in solid start allan scott ...</td>\n",
       "    </tr>\n",
       "    <tr>\n",
       "      <th>19</th>\n",
       "      <td>0</td>\n",
       "      <td>stock market eyes japan recovery japanese shar...</td>\n",
       "    </tr>\n",
       "    <tr>\n",
       "      <th>20</th>\n",
       "      <td>1</td>\n",
       "      <td>lewsey puzzle over disallowed try england s jo...</td>\n",
       "    </tr>\n",
       "    <tr>\n",
       "      <th>21</th>\n",
       "      <td>0</td>\n",
       "      <td>standard life cuts policy bonuses standard lif...</td>\n",
       "    </tr>\n",
       "    <tr>\n",
       "      <th>22</th>\n",
       "      <td>0</td>\n",
       "      <td>pernod takeover talk lifts domecq shares in uk...</td>\n",
       "    </tr>\n",
       "    <tr>\n",
       "      <th>23</th>\n",
       "      <td>1</td>\n",
       "      <td>rovers reject third ferguson bid blackburn hav...</td>\n",
       "    </tr>\n",
       "    <tr>\n",
       "      <th>24</th>\n",
       "      <td>0</td>\n",
       "      <td>ukraine trims privatisation check ukraine is t...</td>\n",
       "    </tr>\n",
       "    <tr>\n",
       "      <th>25</th>\n",
       "      <td>1</td>\n",
       "      <td>henson stakes early lions claim the six nation...</td>\n",
       "    </tr>\n",
       "    <tr>\n",
       "      <th>26</th>\n",
       "      <td>1</td>\n",
       "      <td>scotland v italy (sat) murrayfield  edinburgh ...</td>\n",
       "    </tr>\n",
       "    <tr>\n",
       "      <th>27</th>\n",
       "      <td>0</td>\n",
       "      <td>us regulator to rule on pain drug us food and ...</td>\n",
       "    </tr>\n",
       "    <tr>\n",
       "      <th>28</th>\n",
       "      <td>0</td>\n",
       "      <td>telegraph newspapers axe 90 jobs the daily and...</td>\n",
       "    </tr>\n",
       "    <tr>\n",
       "      <th>29</th>\n",
       "      <td>1</td>\n",
       "      <td>robinson wants dual code success england rugby...</td>\n",
       "    </tr>\n",
       "    <tr>\n",
       "      <th>...</th>\n",
       "      <td>...</td>\n",
       "      <td>...</td>\n",
       "    </tr>\n",
       "    <tr>\n",
       "      <th>987</th>\n",
       "      <td>1</td>\n",
       "      <td>spain coach faces racism inquiry spain s footb...</td>\n",
       "    </tr>\n",
       "    <tr>\n",
       "      <th>988</th>\n",
       "      <td>1</td>\n",
       "      <td>lions blow to world cup stars british and iris...</td>\n",
       "    </tr>\n",
       "    <tr>\n",
       "      <th>989</th>\n",
       "      <td>0</td>\n",
       "      <td>green reports shun supply chain nearly 20% mor...</td>\n",
       "    </tr>\n",
       "    <tr>\n",
       "      <th>990</th>\n",
       "      <td>1</td>\n",
       "      <td>dallaglio his own man to the end controversy a...</td>\n",
       "    </tr>\n",
       "    <tr>\n",
       "      <th>991</th>\n",
       "      <td>1</td>\n",
       "      <td>woodward eyes brennan for lions toulouse s for...</td>\n",
       "    </tr>\n",
       "    <tr>\n",
       "      <th>992</th>\n",
       "      <td>0</td>\n",
       "      <td>asia shares defy post-quake gloom indonesian  ...</td>\n",
       "    </tr>\n",
       "    <tr>\n",
       "      <th>993</th>\n",
       "      <td>1</td>\n",
       "      <td>murray to make cup history andrew murray will ...</td>\n",
       "    </tr>\n",
       "    <tr>\n",
       "      <th>994</th>\n",
       "      <td>0</td>\n",
       "      <td>mci shareholder sues to stop bid a shareholder...</td>\n",
       "    </tr>\n",
       "    <tr>\n",
       "      <th>995</th>\n",
       "      <td>1</td>\n",
       "      <td>palace threat over cantona masks manchester un...</td>\n",
       "    </tr>\n",
       "    <tr>\n",
       "      <th>996</th>\n",
       "      <td>1</td>\n",
       "      <td>middlesbrough 2-2 charlton a late header by te...</td>\n",
       "    </tr>\n",
       "    <tr>\n",
       "      <th>997</th>\n",
       "      <td>0</td>\n",
       "      <td>go-ahead for balkan oil pipeline albania  bulg...</td>\n",
       "    </tr>\n",
       "    <tr>\n",
       "      <th>998</th>\n",
       "      <td>1</td>\n",
       "      <td>henman decides to quit davis cup tim henman ha...</td>\n",
       "    </tr>\n",
       "    <tr>\n",
       "      <th>999</th>\n",
       "      <td>1</td>\n",
       "      <td>campbell lifts lid on united feud arsenal s so...</td>\n",
       "    </tr>\n",
       "    <tr>\n",
       "      <th>1000</th>\n",
       "      <td>0</td>\n",
       "      <td>japanese mogul arrested for fraud one of japan...</td>\n",
       "    </tr>\n",
       "    <tr>\n",
       "      <th>1001</th>\n",
       "      <td>0</td>\n",
       "      <td>us bank  loses  customer details the bank of a...</td>\n",
       "    </tr>\n",
       "    <tr>\n",
       "      <th>1002</th>\n",
       "      <td>0</td>\n",
       "      <td>battered dollar hits another low the dollar ha...</td>\n",
       "    </tr>\n",
       "    <tr>\n",
       "      <th>1003</th>\n",
       "      <td>1</td>\n",
       "      <td>jones files conte lawsuit marion jones has fil...</td>\n",
       "    </tr>\n",
       "    <tr>\n",
       "      <th>1004</th>\n",
       "      <td>1</td>\n",
       "      <td>mexicans tracking unhappy juninho mexican outf...</td>\n",
       "    </tr>\n",
       "    <tr>\n",
       "      <th>1005</th>\n",
       "      <td>1</td>\n",
       "      <td>newry to fight cup exit in courts newry city a...</td>\n",
       "    </tr>\n",
       "    <tr>\n",
       "      <th>1006</th>\n",
       "      <td>0</td>\n",
       "      <td>iraqi voters turn to economic issues beyond th...</td>\n",
       "    </tr>\n",
       "    <tr>\n",
       "      <th>1007</th>\n",
       "      <td>0</td>\n",
       "      <td>us consumer confidence up consumers  confidenc...</td>\n",
       "    </tr>\n",
       "    <tr>\n",
       "      <th>1008</th>\n",
       "      <td>0</td>\n",
       "      <td>india-pakistan peace boosts trade calmer relat...</td>\n",
       "    </tr>\n",
       "    <tr>\n",
       "      <th>1009</th>\n",
       "      <td>1</td>\n",
       "      <td>owen delighted with real display michael owen ...</td>\n",
       "    </tr>\n",
       "    <tr>\n",
       "      <th>1010</th>\n",
       "      <td>0</td>\n",
       "      <td>gm issues 2005 profits warning general motors ...</td>\n",
       "    </tr>\n",
       "    <tr>\n",
       "      <th>1011</th>\n",
       "      <td>0</td>\n",
       "      <td>asian banks halt dollar s slide the dollar reg...</td>\n",
       "    </tr>\n",
       "    <tr>\n",
       "      <th>1012</th>\n",
       "      <td>0</td>\n",
       "      <td>wall street cool to ebay s profit shares in on...</td>\n",
       "    </tr>\n",
       "    <tr>\n",
       "      <th>1013</th>\n",
       "      <td>0</td>\n",
       "      <td>ban on forced retirement under 65 employers wi...</td>\n",
       "    </tr>\n",
       "    <tr>\n",
       "      <th>1014</th>\n",
       "      <td>1</td>\n",
       "      <td>time to get tough on friendlies  for an intern...</td>\n",
       "    </tr>\n",
       "    <tr>\n",
       "      <th>1015</th>\n",
       "      <td>0</td>\n",
       "      <td>christmas shoppers flock to tills shops all ov...</td>\n",
       "    </tr>\n",
       "    <tr>\n",
       "      <th>1016</th>\n",
       "      <td>0</td>\n",
       "      <td>bush budget seeks deep cutbacks president bush...</td>\n",
       "    </tr>\n",
       "  </tbody>\n",
       "</table>\n",
       "<p>1017 rows × 2 columns</p>\n",
       "</div>"
      ],
      "text/plain": [
       "      category                                               text\n",
       "0            0  worldcom boss  left books alone  former worldc...\n",
       "1            1  tigers wary of farrell  gamble  leicester say ...\n",
       "2            1  yeading face newcastle in fa cup premiership s...\n",
       "3            1  henman hopes ended in dubai third seed tim hen...\n",
       "4            1  wilkinson fit to face edinburgh england captai...\n",
       "5            0  virgin blue shares plummet 20% shares in austr...\n",
       "6            0  crude oil prices back above $50 cold weather a...\n",
       "7            1  moya emotional after davis cup win carlos moya...\n",
       "8            0  s korean credit card firm rescued south korea ...\n",
       "9            1  connors boost for british tennis former world ...\n",
       "10           0  japanese banking battle at an end japan s sumi...\n",
       "11           1  bates seals takeover ken bates has completed h...\n",
       "12           1  cole faces lengthy injury lay-off aston villa ...\n",
       "13           1  moya fights back for indian title carlos moya ...\n",
       "14           0  insurance bosses plead guilty another three us...\n",
       "15           0  german growth goes into reverse germany s econ...\n",
       "16           1  federer claims dubai crown world number one ro...\n",
       "17           0  house prices show slight increase prices of ho...\n",
       "18           1  disappointed scott in solid start allan scott ...\n",
       "19           0  stock market eyes japan recovery japanese shar...\n",
       "20           1  lewsey puzzle over disallowed try england s jo...\n",
       "21           0  standard life cuts policy bonuses standard lif...\n",
       "22           0  pernod takeover talk lifts domecq shares in uk...\n",
       "23           1  rovers reject third ferguson bid blackburn hav...\n",
       "24           0  ukraine trims privatisation check ukraine is t...\n",
       "25           1  henson stakes early lions claim the six nation...\n",
       "26           1  scotland v italy (sat) murrayfield  edinburgh ...\n",
       "27           0  us regulator to rule on pain drug us food and ...\n",
       "28           0  telegraph newspapers axe 90 jobs the daily and...\n",
       "29           1  robinson wants dual code success england rugby...\n",
       "...        ...                                                ...\n",
       "987          1  spain coach faces racism inquiry spain s footb...\n",
       "988          1  lions blow to world cup stars british and iris...\n",
       "989          0  green reports shun supply chain nearly 20% mor...\n",
       "990          1  dallaglio his own man to the end controversy a...\n",
       "991          1  woodward eyes brennan for lions toulouse s for...\n",
       "992          0  asia shares defy post-quake gloom indonesian  ...\n",
       "993          1  murray to make cup history andrew murray will ...\n",
       "994          0  mci shareholder sues to stop bid a shareholder...\n",
       "995          1  palace threat over cantona masks manchester un...\n",
       "996          1  middlesbrough 2-2 charlton a late header by te...\n",
       "997          0  go-ahead for balkan oil pipeline albania  bulg...\n",
       "998          1  henman decides to quit davis cup tim henman ha...\n",
       "999          1  campbell lifts lid on united feud arsenal s so...\n",
       "1000         0  japanese mogul arrested for fraud one of japan...\n",
       "1001         0  us bank  loses  customer details the bank of a...\n",
       "1002         0  battered dollar hits another low the dollar ha...\n",
       "1003         1  jones files conte lawsuit marion jones has fil...\n",
       "1004         1  mexicans tracking unhappy juninho mexican outf...\n",
       "1005         1  newry to fight cup exit in courts newry city a...\n",
       "1006         0  iraqi voters turn to economic issues beyond th...\n",
       "1007         0  us consumer confidence up consumers  confidenc...\n",
       "1008         0  india-pakistan peace boosts trade calmer relat...\n",
       "1009         1  owen delighted with real display michael owen ...\n",
       "1010         0  gm issues 2005 profits warning general motors ...\n",
       "1011         0  asian banks halt dollar s slide the dollar reg...\n",
       "1012         0  wall street cool to ebay s profit shares in on...\n",
       "1013         0  ban on forced retirement under 65 employers wi...\n",
       "1014         1  time to get tough on friendlies  for an intern...\n",
       "1015         0  christmas shoppers flock to tills shops all ov...\n",
       "1016         0  bush budget seeks deep cutbacks president bush...\n",
       "\n",
       "[1017 rows x 2 columns]"
      ]
     },
     "execution_count": 30,
     "metadata": {},
     "output_type": "execute_result"
    }
   ],
   "source": [
    "# Loading data from csv file\n",
    "import pandas as pd\n",
    "import os\n",
    "\n",
    "\n",
    "os.chdir(\"D:\\\\AI and ML\\\\Dataset\")\n",
    "\n",
    "df = pd.read_csv(\"logistic_regression_assignment_data.csv\")\n",
    "df"
   ]
  },
  {
   "cell_type": "markdown",
   "metadata": {
    "id": "kTQOrw6JCu5D"
   },
   "source": [
    "#### **Note:** Here class-0 is of category \"business\" and class-1 is of category \"sport\""
   ]
  },
  {
   "cell_type": "code",
   "execution_count": 31,
   "metadata": {
    "colab": {
     "base_uri": "https://localhost:8080/"
    },
    "executionInfo": {
     "elapsed": 592,
     "status": "ok",
     "timestamp": 1626855236336,
     "user": {
      "displayName": "Mentors Applied Roots",
      "photoUrl": "",
      "userId": "03189030586612060642"
     },
     "user_tz": -330
    },
    "id": "T0_a8GvRqwzj",
    "outputId": "c6324957-6350-4e92-95e9-1d19d39c287e"
   },
   "outputs": [
    {
     "data": {
      "text/plain": [
       "1    509\n",
       "0    508\n",
       "Name: category, dtype: int64"
      ]
     },
     "execution_count": 31,
     "metadata": {},
     "output_type": "execute_result"
    }
   ],
   "source": [
    "# Data Overiview\n",
    "df['category'].value_counts()"
   ]
  },
  {
   "cell_type": "markdown",
   "metadata": {
    "id": "RW3eJmVbubx4"
   },
   "source": [
    "### Creating Train and Test Datasets\n"
   ]
  },
  {
   "cell_type": "code",
   "execution_count": 32,
   "metadata": {
    "colab": {
     "base_uri": "https://localhost:8080/"
    },
    "executionInfo": {
     "elapsed": 698,
     "status": "ok",
     "timestamp": 1626855237958,
     "user": {
      "displayName": "Mentors Applied Roots",
      "photoUrl": "",
      "userId": "03189030586612060642"
     },
     "user_tz": -330
    },
    "id": "f5iXh7PusnyJ",
    "outputId": "0d196383-a6da-42e1-c7b2-11a1a5df1be5"
   },
   "outputs": [
    {
     "name": "stdout",
     "output_type": "stream",
     "text": [
      "Shape of Train_Text =  (1006,)\n",
      "Shape of Test_Text =  (11,)\n",
      "Shape of Train_Category =  (1006,)\n",
      "Shape of Train_Category =  (11,)\n"
     ]
    }
   ],
   "source": [
    "# Splitting the data into train and test\n",
    "\n",
    "from sklearn.model_selection import train_test_split\n",
    "\n",
    "text = df['text']\n",
    "category = df['category']\n",
    "train_text, test_text, train_category, test_category = train_test_split(text, category, random_state=42, stratify=category, test_size=0.01)\n",
    "\n",
    "print(\"Shape of Train_Text = \", train_text.shape)\n",
    "print(\"Shape of Test_Text = \", test_text.shape)\n",
    "print(\"Shape of Train_Category = \", train_category.shape)\n",
    "print(\"Shape of Train_Category = \", test_category.shape)"
   ]
  },
  {
   "cell_type": "markdown",
   "metadata": {
    "id": "G6JlCeWPvNPS"
   },
   "source": [
    "## Custom Implementation"
   ]
  },
  {
   "cell_type": "markdown",
   "metadata": {
    "id": "VQRHOpf1vO69"
   },
   "source": [
    "### Instructions:\n",
    "\n",
    "  1. Read in the train_data.\n",
    "  2. Vectorize train_data and test_data using sklearns built in tfidf vectorizer.\n",
    "  3. Ignore unigrams and make use of both **bigrams & trigrams** and also limit the **max features** to **2000** and **minimum document frequency** to **10**.\n",
    "  4. After the tfidf vectors are generated as mentioned above, next task is to column standardize your data.\n",
    "  5. We want you to write in comments in your code, the reason you think for standardizing the data in the above step.\n",
    "  6. You can use sklearn StandardScaler to column standardize your data.\n",
    "  7. Write a function to initialise your weights & bias. And then run its corresponding grader function.\n",
    "  8. Write a custom function to calculate sigmoid of a value. And then run its corresponding grader function to cross check your implementation of sigmoid function.\n",
    "  9. Write a custom function to compute the total loss as the sum of log loss and l1 regularization loss based on true labels and predicted labels and weights. And you can crosscheck your implementation with its corresponding grader.\n",
    "  10. Write a function to compute gradients for your weights and bias terms, which you have to make use of in updating your weights and bias while training your model.\n",
    "  11. Implement a custom train function of logistic regression, wherein you take in the following inputs:\n",
    "        * **X_train** which will be your vectorized text data\n",
    "        * **y_train** which are the labels for your train data\n",
    "        * **alpha** = 0.0001 which is the regularization factor (λ) \n",
    "        * **eta0** = 0.0001 which will be the learning rate   \n",
    "        * **tolerance** = 0.001\n",
    "        \n",
    "  12. In the custom train function you should make use of a custom SGD function to update the weights and bias terms for **each** of your inputs. \n",
    "  13. The custom SGD implemented in the above train function for updating the weights and bias terms should run for many epochs until the difference in loss between two consecutive epochs is less than tolerance.\n",
    "\n",
    "  14. Here one epoch means a complete iteration of your entire train data.\n",
    "  15. Your train function should return the follwing:\n",
    "        * the number of epochs it took to complete the training\n",
    "        * train loss for all epochs\n",
    "        * the values for final weights and bias terms.\n",
    "        \n",
    "  16. Now run the grader function to check whether the weights and bias obtained from your custom implementation are close enough to that of sklearns implementation.\n",
    "  17. Next write a custom predict function which takes in as input the weights and bias values that you computed in your train function, and also takes in the test standardized data as input to predict its labels.\n",
    "  18. Now run the grader function to check the accuracy of your predictions.\n",
    "\n",
    "\n",
    "\n"
   ]
  },
  {
   "cell_type": "markdown",
   "metadata": {
    "id": "1Kb2V8ZXM-6M"
   },
   "source": [
    "###Import necessary libraries"
   ]
  },
  {
   "cell_type": "code",
   "execution_count": 33,
   "metadata": {
    "id": "a3Zm11bHNGBi"
   },
   "outputs": [],
   "source": [
    "import numpy as np\n",
    "from sklearn.feature_extraction.text import TfidfVectorizer\n",
    "from sklearn.preprocessing import StandardScaler\n",
    "from sklearn import linear_model\n",
    "import matplotlib.pyplot as plt"
   ]
  },
  {
   "cell_type": "markdown",
   "metadata": {
    "id": "_hfDStz1LvEe"
   },
   "source": [
    "### 1. Vectorize train data and test data using sklearn tf-idf in the below cell\n",
    "\n",
    "\n",
    "\n"
   ]
  },
  {
   "cell_type": "code",
   "execution_count": 51,
   "metadata": {},
   "outputs": [
    {
     "name": "stdout",
     "output_type": "stream",
     "text": [
      "(1006, 2000) (11, 2000)\n"
     ]
    }
   ],
   "source": [
    "'''vectorize train and test data using TF-IDF and store them in train_vectors and test_vectors respectively'''\n",
    "#((1006, 2000), (11, 2000))\n",
    "ngram_min=2\n",
    "ngram_max=3\n",
    "max_features=2000\n",
    "min_df=10\n",
    "vectorizer = TfidfVectorizer(ngram_range=(ngram_min,ngram_max),max_features=max_features,min_df=min_df)\n",
    "train_vectors= vectorizer.fit_transform(train_text)\n",
    "test_vectors= vectorizer.transform(test_text)\n",
    "print(train_vectors.shape,test_vectors.shape)"
   ]
  },
  {
   "cell_type": "markdown",
   "metadata": {
    "id": "0igVcuTSN4pS"
   },
   "source": [
    "###2. Column standardize the train and test data"
   ]
  },
  {
   "cell_type": "markdown",
   "metadata": {
    "id": "7zqOC3wx8LWF"
   },
   "source": [
    "What is the reasoning for column standardizing the data?\n"
   ]
  },
  {
   "cell_type": "markdown",
   "metadata": {
    "id": "H4jJ4xm58UPZ"
   },
   "source": [
    "Answer: If we have two or more features and values of each feature measure in different scale( e.g : age and Salary) and if we want to compare these feature, we will not able to compare bcuz the scale is different.Hence, to bring the the two or more feature on same scale so that we can compare or we can do any calculation  then the standardizing the data come into picture."
   ]
  },
  {
   "cell_type": "markdown",
   "metadata": {
    "id": "sKL7ul-A5U6n"
   },
   "source": [
    "### 3. Custom function to intialise your weights and bias terms"
   ]
  },
  {
   "cell_type": "code",
   "execution_count": 53,
   "metadata": {
    "id": "dUmNAPWe3rso"
   },
   "outputs": [],
   "source": [
    "def initialize_weights_bias(dim):\n",
    "    ''' In this function, we will initialize our weights and bias terms'''\n",
    "\n",
    "    # Initialize the weights to zeros array of (dim) dimensions. Here dim will be the number of features of your tfidf vectorizer output.\n",
    "    # You can initialize the weight terms with zeros.\n",
    "    # Initialize bias term to zero\n",
    "    # Write your code below.\n",
    "    w= np.zeros((dim))\n",
    "    b=0\n",
    "\n",
    "    return w,b"
   ]
  },
  {
   "cell_type": "markdown",
   "metadata": {
    "id": "b5H1j1bo5e2-"
   },
   "source": [
    "### Grader Function - 1"
   ]
  },
  {
   "cell_type": "code",
   "execution_count": 54,
   "metadata": {
    "colab": {
     "base_uri": "https://localhost:8080/"
    },
    "executionInfo": {
     "elapsed": 23,
     "status": "ok",
     "timestamp": 1626855241389,
     "user": {
      "displayName": "Mentors Applied Roots",
      "photoUrl": "",
      "userId": "03189030586612060642"
     },
     "user_tz": -330
    },
    "id": "D_wIbcOj3JrV",
    "outputId": "ecc30614-2177-4bca-ff19-0e85564f479b"
   },
   "outputs": [
    {
     "name": "stdout",
     "output_type": "stream",
     "text": [
      "Grader_1 Status :  True\n"
     ]
    }
   ],
   "source": [
    "# Grader function to check the initialization of your weights and bias terms.\n",
    "\n",
    "def grader_weights_bias(w,b):\n",
    "    assert((len(w)==2000) and b==0)\n",
    "    return True\n",
    "\n",
    "dim = 2000\n",
    "w,b = initialize_weights_bias(dim)\n",
    "grader_1 = grader_weights_bias(w,b)\n",
    "print(\"Grader_1 Status : \", grader_1)"
   ]
  },
  {
   "cell_type": "markdown",
   "metadata": {
    "id": "oLGMaOFE6JDF"
   },
   "source": [
    "### 4. Custom function to calculate sigmoid of a value"
   ]
  },
  {
   "cell_type": "code",
   "execution_count": 55,
   "metadata": {
    "id": "FfP2Z7gv3JpX"
   },
   "outputs": [],
   "source": [
    "def custom_sigmoid(z):\n",
    "    ''' In this function, we will return sigmoid of z'''\n",
    "    \n",
    "    # Compute sigmoid(z) and return its value.\n",
    "    # Write your code below.\n",
    "    sigmoid = 1/(1+np.exp(-z))\n",
    "    return sigmoid"
   ]
  },
  {
   "cell_type": "markdown",
   "metadata": {
    "id": "lmoPhaX16pJ2"
   },
   "source": [
    "### Grader Function - 2"
   ]
  },
  {
   "cell_type": "code",
   "execution_count": 56,
   "metadata": {
    "colab": {
     "base_uri": "https://localhost:8080/"
    },
    "executionInfo": {
     "elapsed": 20,
     "status": "ok",
     "timestamp": 1626855241390,
     "user": {
      "displayName": "Mentors Applied Roots",
      "photoUrl": "",
      "userId": "03189030586612060642"
     },
     "user_tz": -330
    },
    "id": "G14xZAg_6x6C",
    "outputId": "d67658fe-b533-45cf-bedb-6b8fb470df83"
   },
   "outputs": [
    {
     "name": "stdout",
     "output_type": "stream",
     "text": [
      "Grader_2 Status :  True\n"
     ]
    }
   ],
   "source": [
    "# Grader function to check the implementaiton of sigmoid function\n",
    "\n",
    "def grader_sigmoid(z):\n",
    "    val = custom_sigmoid(z)\n",
    "    assert(val==0.8807970779778823)\n",
    "    return True\n",
    "\n",
    "grader_2 = grader_sigmoid(2)\n",
    "print(\"Grader_2 Status : \", grader_2)"
   ]
  },
  {
   "cell_type": "markdown",
   "metadata": {
    "id": "SVTM6TpQ6JTS"
   },
   "source": [
    "### 5.  Custom function to compute loss function"
   ]
  },
  {
   "cell_type": "markdown",
   "metadata": {
    "id": "Q5B5oKpf4h0n"
   },
   "source": [
    "$logloss = -1*\\frac{1}{n}\\Sigma_{for each Y_{true},Y_{pred}}(Y_{true}log10(Y_{pred})+(1-Y_{true})log10(1-Y_{pred}))$ \n"
   ]
  },
  {
   "cell_type": "markdown",
   "metadata": {
    "id": "AnS1uSrV6CAk"
   },
   "source": [
    "$L1 loss = \\Sigma_{for each w}(|w|)$"
   ]
  },
  {
   "cell_type": "markdown",
   "metadata": {
    "id": "azcvxO3u6lNK"
   },
   "source": [
    "$total loss = logloss + alpha*L1loss$<br>\n",
    "Where alphas is the regularization parameter"
   ]
  },
  {
   "cell_type": "code",
   "execution_count": 57,
   "metadata": {},
   "outputs": [],
   "source": [
    "def custom_loss(y_true, y_pred, alpha, w):\n",
    "    '''In this function, we will compute total loss which is [(logloss) + (alpha * L1regularization loss)] '''\n",
    "    \n",
    "    # Write your code below.\n",
    "    y_true=np.array(y_true)\n",
    "    y_pred=np.array(y_pred)\n",
    "    m=len(y_true)\n",
    "    log_loss = -1/m*np.sum([y_true[i]*np.log10(y_pred[i]) + (1-y_true[i])*np.log10(1-y_pred[i]) for i in range(len(y_true))])\n",
    "    l1_loss = sum(abs(w))\n",
    "    total_loss = log_loss + alpha*l1_loss\n",
    "    return total_loss"
   ]
  },
  {
   "cell_type": "markdown",
   "metadata": {
    "id": "DYPtH_bM6obu"
   },
   "source": [
    "### Grader Function - 3"
   ]
  },
  {
   "cell_type": "code",
   "execution_count": 58,
   "metadata": {
    "colab": {
     "base_uri": "https://localhost:8080/"
    },
    "executionInfo": {
     "elapsed": 12,
     "status": "ok",
     "timestamp": 1626855243393,
     "user": {
      "displayName": "Mentors Applied Roots",
      "photoUrl": "",
      "userId": "03189030586612060642"
     },
     "user_tz": -330
    },
    "id": "AeNjSysS829s",
    "outputId": "3a76964e-146c-4ad0-b2c0-3598df901971"
   },
   "outputs": [
    {
     "name": "stdout",
     "output_type": "stream",
     "text": [
      "Grader_3 Status :  True\n"
     ]
    }
   ],
   "source": [
    "# Grader function to check the implementaiton of logloss\n",
    "\n",
    "def grader_loss():\n",
    "    true_values = [1,1,0,1,0]\n",
    "    pred_values = [0.9,0.8,0.1,0.8,0.2]\n",
    "    w= np.array([0.1]*10)\n",
    "    alpha= 0.0001\n",
    "    loss = custom_loss(true_values, pred_values,alpha,w)\n",
    "    assert(loss==0.07644900402910389+0.0001*10*0.1)\n",
    "    return True\n",
    "\n",
    "\n",
    "grader_3 = grader_loss()\n",
    "print(\"Grader_3 Status : \", grader_3)"
   ]
  },
  {
   "cell_type": "markdown",
   "metadata": {
    "id": "LQGM1j2B6Jbf"
   },
   "source": [
    "### 6. Custom function to updated weights and bias terms"
   ]
  },
  {
   "cell_type": "markdown",
   "metadata": {
    "id": "FlqoG2CBMAjI"
   },
   "source": [
    "Use the below formula to compute gradient of your weight and bias terms <br>\n",
    "Loss term Li for a single example is given as below: \n",
    "<br>\n",
    "<br>\n",
    "\n",
    "$Li= -(Y_{i}log10(𝝈_{i})-(1-Y_{i})log10(1-𝝈_{i}) + \\frac{alpha}{N}(sum(|w|))\n",
    "$ <br>\n",
    "<br>\n",
    "$Where: 𝝈_{i} = σ(w^{T} x_i+b) $ <br>\n",
    "<br>\n",
    "And: L1 regularization = $\\frac{alpha}{N}(sum(|w|)) $ <br>\n",
    "Alpha: It is the Regularization parameter <br>\n",
    "N : number of training examples<br>\n",
    "σ : sigmoid function <br>\n",
    "<br>\n",
    "<br>\n",
    "<br>\n",
    "$dLi/dw= -Y_{i}x_{i}(1-𝝈_{i}) + (1-Y_{i})x_{i}𝝈_{i} +  \\frac{alpha}{N}\\frac{w + (1e-5)}{|w + (1e-5)|}  $<br>\n",
    "NOTE THAT: 1e-5 used in numerator and denominator to avoid division error <br>\n",
    "\n",
    "$dLi/db= -Y_{i}(1-𝝈_{i}) + (1-Y_{i})𝝈_{i}$<br>\n",
    "<br>\n",
    "<br>\n",
    "Hence,<br>\n",
    "$dLi/dw= dw = (𝝈_{i} -Y_{i})x_{i} + \\frac{alpha}{N}\\frac{w + (1e-5)}{|w + (1e-5)|} $<br>\n",
    "1e-5 used in numerator and denominator to avoid division error <br>\n",
    "$dLi/db =  db = 𝝈_{i}-Y_{i}$\n",
    "<br>\n",
    "<br>\n",
    "!!NOTE: USE NEGATIVE GRADIENT WHILE UPDATING"
   ]
  },
  {
   "cell_type": "markdown",
   "metadata": {
    "id": "5UBBkZNJM2Fg"
   },
   "source": [
    "### 6a. Custom function to compute Gradient of loss function wrt weights:"
   ]
  },
  {
   "cell_type": "code",
   "execution_count": 59,
   "metadata": {
    "id": "hREi7bQxM8h-"
   },
   "outputs": [],
   "source": [
    "def gradient_dw(x, y, w, b, alpha, N):\n",
    "    '''In this function, we will compute the gardient w.r.t. w '''\n",
    "    \n",
    "    # Write your code below.\n",
    "    A = custom_sigmoid(np.dot(w,x) + b)\n",
    "    dw= (A-y)*x + (alpha/N)*((w+1e-5)/abs(w+1e-5))\n",
    "    return dw"
   ]
  },
  {
   "cell_type": "markdown",
   "metadata": {
    "id": "DyxGabPPM_lL"
   },
   "source": [
    "### 6b.  Custom function to compute Gradient of loss function wrt bias term:"
   ]
  },
  {
   "cell_type": "code",
   "execution_count": 60,
   "metadata": {
    "id": "mIMxwuBAND0a"
   },
   "outputs": [],
   "source": [
    "def gradient_db(x, y, w, b):\n",
    "    '''In this function, we will compute the gardient w.r.t. b '''\n",
    "    \n",
    "    # Write your code below.\n",
    "\n",
    "    A = custom_sigmoid(np.dot(w,x) + b)\n",
    "\n",
    "    #computing gradient\n",
    "    db = (A-y)\n",
    "\n",
    "    return db"
   ]
  },
  {
   "cell_type": "markdown",
   "metadata": {
    "id": "DA6UuRWA-Pvf"
   },
   "source": [
    "###6c. Custom function to train logistic regression model"
   ]
  },
  {
   "cell_type": "markdown",
   "metadata": {
    "id": "KgdgYdyRX06U"
   },
   "source": [
    "$w^{(t+1)}← w^{(t)}- eta0*(dw^{(t)}) $<br>\n",
    "$b^{(t+1)}←b^{(t)} - eta0*(db^{(t)}) $"
   ]
  },
  {
   "cell_type": "code",
   "execution_count": 61,
   "metadata": {},
   "outputs": [],
   "source": [
    "def custom_train(X_train, y_train,alpha, eta0, tolerance):\n",
    "    train_loss=[]\n",
    "    w,b=initialize_weights_bias(X_train.shape[1])\n",
    "\n",
    "  #storing the number of train points in N\n",
    "    N=len(X_train)\n",
    "\n",
    "  #number of epochs the model is trained\n",
    "    num_epochs=0\n",
    "\n",
    "  #condition to run the training for more epochs\n",
    "    cond=True\n",
    "\n",
    "  #checking whether to run the training for more epochs\n",
    "    while(cond):\n",
    "        for i in range(0,len(X_train)):\n",
    "            x=X_train[i]\n",
    "            y=y_train[i]\n",
    "            dw=gradient_dw(x,y,w,b,alpha,N)\n",
    "            db=gradient_db(x,y,w,b)\n",
    "            w=w-eta0*dw\n",
    "            b=b-eta0*db\n",
    "        pred_train= np.array([custom_sigmoid(np.dot(w,j)+b) for j in X_train])\n",
    "        train_loss.append(custom_loss(y_train,pred_train,alpha,w))\n",
    "        if num_epochs>0:\n",
    "            cond=((train_loss[num_epochs-1]-train_loss[num_epochs])>=tolerance)\n",
    "\n",
    "    #increasing the number of epochs the model is trained.\n",
    "        num_epochs=num_epochs+1  \n",
    "         \n",
    "\n",
    "    return w,b,train_loss,num_epochs\n",
    "  "
   ]
  },
  {
   "cell_type": "markdown",
   "metadata": {
    "id": "EKKUVLml6pGj"
   },
   "source": [
    "### Grader Function - 4"
   ]
  },
  {
   "cell_type": "code",
   "execution_count": 62,
   "metadata": {
    "colab": {
     "base_uri": "https://localhost:8080/"
    },
    "executionInfo": {
     "elapsed": 1442,
     "status": "ok",
     "timestamp": 1626855250430,
     "user": {
      "displayName": "Mentors Applied Roots",
      "photoUrl": "",
      "userId": "03189030586612060642"
     },
     "user_tz": -330
    },
    "id": "eAgSNFOU3JhN",
    "outputId": "359ca9f2-b4c7-4249-c1f5-1afe88e9ac69"
   },
   "outputs": [
    {
     "name": "stdout",
     "output_type": "stream",
     "text": [
      "Grader_4 Status :  True\n"
     ]
    }
   ],
   "source": [
    "def grader_weights_bias():\n",
    "  # fitting sklearn SGD classifier\n",
    "    clf = linear_model.SGDClassifier(eta0=0.0001, alpha=0.0001, loss='log', random_state=15, penalty='l1', tol=1e-3, learning_rate='constant')\n",
    "    clf.fit(train_vectors_stand,train_category.values)\n",
    "    model_coef= clf.coef_[0]\n",
    "\n",
    "  # fitting custom train with same learning rate, regularization and tolerance as of sklearn\n",
    "    w,b,_,epoch = custom_train(train_vectors_stand, train_category.values, 0.0001,0.0001,0.001)\n",
    "\n",
    "  # checking whether the weights and bias returned by both the implementations are closer\n",
    "    assert((not (w-model_coef>0.02).any())==True)\n",
    "    assert(not (b-clf.intercept_>0.02)==True)\n",
    "  \n",
    "    return True\n",
    "\n",
    "grader_4 = grader_weights_bias()\n",
    "print(\"Grader_4 Status : \", grader_4)"
   ]
  },
  {
   "cell_type": "markdown",
   "metadata": {
    "id": "GHrNKvsemncP"
   },
   "source": [
    "### 7. Plot the train loss with x as epoch number and y as train loss"
   ]
  },
  {
   "cell_type": "code",
   "execution_count": 63,
   "metadata": {
    "colab": {
     "base_uri": "https://localhost:8080/",
     "height": 295
    },
    "executionInfo": {
     "elapsed": 1347,
     "status": "ok",
     "timestamp": 1626855253613,
     "user": {
      "displayName": "Mentors Applied Roots",
      "photoUrl": "",
      "userId": "03189030586612060642"
     },
     "user_tz": -330
    },
    "id": "OJ_7XOwzmvvi",
    "outputId": "010fbe5a-231b-46e6-f26c-515e6e8b16a5"
   },
   "outputs": [
    {
     "data": {
      "image/png": "[encoded data removed]",
      "text/plain": [
       "<Figure size 432x288 with 1 Axes>"
      ]
     },
     "metadata": {
      "needs_background": "light"
     },
     "output_type": "display_data"
    }
   ],
   "source": [
    "# plotting graph for epoch vs loss for train and test data\n",
    "w,b,train_loss,epochs = custom_train(train_vectors_stand, train_category.values, 0.0001,0.0001,0.001)\n",
    "plt.plot(range(epochs),train_loss,label='train curve')\n",
    "plt.title('epoch vs loss')\n",
    "plt.legend()\n",
    "plt.xlabel('epoch')\n",
    "plt.ylabel('loss')\n",
    "plt.show()"
   ]
  },
  {
   "cell_type": "markdown",
   "metadata": {
    "id": "IYy8iqhrAne2"
   },
   "source": [
    "### 8. Custom function to make predictions using logistic regression model"
   ]
  },
  {
   "cell_type": "code",
   "execution_count": 66,
   "metadata": {
    "id": "w2gy5NvAlC_6"
   },
   "outputs": [],
   "source": [
    "def predict(w,b, X):\n",
    "    '''function to predict label given weights, bias and standardized data'''\n",
    "\n",
    "    #list to store the predictions of every datapoint\n",
    "    predictions = []\n",
    "\n",
    "    #looping through each data point\n",
    "    for i in X:\n",
    "\n",
    "        #computing z\n",
    "        z=custom_sigmoid(np.dot(w,i)+b)\n",
    "\n",
    "        #classifying the datapoint based on probability with 0.5 threshold\n",
    "        if z >= 0.5: \n",
    "            predictions.append(1)\n",
    "        else:\n",
    "            predictions.append(0)\n",
    "    \n",
    "    #converting predictions to np array as expected\n",
    "    predictions= np.array(predictions)\n",
    "    return predictions #it should be a numpy array"
   ]
  },
  {
   "cell_type": "markdown",
   "metadata": {
    "id": "EY3E_yv2OGiD"
   },
   "source": [
    "### Grader Function - 5"
   ]
  },
  {
   "cell_type": "code",
   "execution_count": 67,
   "metadata": {
    "colab": {
     "base_uri": "https://localhost:8080/"
    },
    "executionInfo": {
     "elapsed": 634,
     "status": "ok",
     "timestamp": 1626855254232,
     "user": {
      "displayName": "Mentors Applied Roots",
      "photoUrl": "",
      "userId": "03189030586612060642"
     },
     "user_tz": -330
    },
    "id": "eKYawSBtlRD7",
    "outputId": "40bba809-1271-4ec4-a2ad-777e3fdba6ab"
   },
   "outputs": [
    {
     "name": "stdout",
     "output_type": "stream",
     "text": [
      "Success!\n"
     ]
    }
   ],
   "source": [
    "def grader_predict():\n",
    "  #''' grader to check the test accuracy'''\n",
    "    w,b,_,_ = custom_train(train_vectors_stand, train_category.values, 0.0001,0.0001,0.001)\n",
    "    test_preds = predict(w,b,test_vectors_stand)\n",
    "    test_accuracy = (np.sum(test_category==test_preds)/len(test_preds))*100\n",
    "    if(test_accuracy>=90):\n",
    "        print(\"Success!\")\n",
    "    else:\n",
    "        print(\"Failed! \\n Test accuracy = \", test_accuracy)\n",
    "    return\n",
    "  \n",
    "grader_predict()"
   ]
  },
  {
   "cell_type": "code",
   "execution_count": null,
   "metadata": {
    "id": "6EMoD2joCbrR"
   },
   "outputs": [],
   "source": []
  }
 ],
 "metadata": {
  "colab": {
   "collapsed_sections": [],
   "name": "Logistic_Regression_Solution.ipynb",
   "provenance": []
  },
  "kernelspec": {
   "display_name": "Python 3",
   "language": "python",
   "name": "python3"
  },
  "language_info": {
   "codemirror_mode": {
    "name": "ipython",
    "version": 3
   },
   "file_extension": ".py",
   "mimetype": "text/x-python",
   "name": "python",
   "nbconvert_exporter": "python",
   "pygments_lexer": "ipython3",
   "version": "3.7.3"
  }
 },
 "nbformat": 4,
 "nbformat_minor": 1
}
